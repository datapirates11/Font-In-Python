{
 "cells": [
  {
   "cell_type": "markdown",
   "metadata": {},
   "source": [
    "# My Fonts"
   ]
  },
  {
   "cell_type": "code",
   "execution_count": 3,
   "metadata": {},
   "outputs": [],
   "source": [
    "#Import necessary packages\n",
    "import random\n",
    "import tkinter as tk\n",
    "from tkinter import *\n",
    "\n",
    "\n",
    "#Creating necessary tkinter widges\n",
    "def creatwidgets():\n",
    "    root.happylabel = Label(root, text = \"STAY\", bg = \"snow4\", font = (\"Helvetica\", 150))\n",
    "    root.happylabel.grid(row = 0, column = 0, columnspan = 4, padx = 10, pady = 5)\n",
    "    \n",
    "    root.holilabel = Label(root, text = \"SAFE\", bg = \"snow4\", font = (\"Helvetica\", 150))\n",
    "    root.holilabel.grid(row = 1, column  = 0, columnspan = 4)\n",
    "    \n",
    "    happywish()\n",
    "    holiwish()\n",
    "\n",
    "\n",
    "#Defining happywish for changing font-color of happy label\n",
    "def happywish():\n",
    "    #Generating random numbers between 1 to 255 and converting them to hexdecimal using format()\n",
    "    #And storing them in x,y,z variables\n",
    "    x = format(random.randint(1, 255), '02x')\n",
    "    y = format(random.randint(1, 255), '02x')\n",
    "    z = format(random.randint(1, 255), '02x')\n",
    "    \n",
    "    #Concating x,y,z and # and storing them in color\n",
    "    color = \"#\"+str(x)+str(y)+str(z)\n",
    "    \n",
    "    #Setting the font-color of the label to the above colors\n",
    "    root.happylabel.config(fg=color)\n",
    "    \n",
    "    #Calling happywish() after 105 mili-second to display happy font with new color\n",
    "    root.happylabel.after(105, happywish)\n",
    "    \n",
    "#Defining holiwish for changing font-color of holi label\n",
    "def holiwish():\n",
    "    #Generating random numbers between 1 to 255 and converting them to hexdecimal using format()\n",
    "    #And storing them in x,y,z variables\n",
    "    x = format(random.randint(1, 255), '02x')\n",
    "    y = format(random.randint(1, 255), '02x')\n",
    "    z = format(random.randint(1, 255), '02x')\n",
    "    \n",
    "    #Concating x,y,z and # and storing them in color\n",
    "    color = \"#\"+str(x)+str(y)+str(z)\n",
    "    \n",
    "    #Setting the font-color of the label to the above colors\n",
    "    root.holilabel.config(fg=color)\n",
    "    \n",
    "    #Calling holiwish() after 105 mili-second to display holi font with new color\n",
    "    root.holilabel.after(105, holiwish)\n",
    "\n",
    "    \n",
    "#Creat objects of tk class\n",
    "root = tk.Tk()\n",
    "#Setting the title and background color\n",
    "#Disabling the resizing property\n",
    "root.title(\"GREETINGS\")\n",
    "root.config(background = \"snow4\")\n",
    "root.geometry('550x350')\n",
    "\n",
    "#Calling the creatwidgets() function\n",
    "creatwidgets()\n",
    "\n",
    "#Defining infinite loop to run application\n",
    "root.mainloop()\n",
    "\n"
   ]
  },
  {
   "cell_type": "code",
   "execution_count": null,
   "metadata": {},
   "outputs": [],
   "source": []
  }
 ],
 "metadata": {
  "kernelspec": {
   "display_name": "Python 3",
   "language": "python",
   "name": "python3"
  },
  "language_info": {
   "codemirror_mode": {
    "name": "ipython",
    "version": 3
   },
   "file_extension": ".py",
   "mimetype": "text/x-python",
   "name": "python",
   "nbconvert_exporter": "python",
   "pygments_lexer": "ipython3",
   "version": "3.7.6"
  }
 },
 "nbformat": 4,
 "nbformat_minor": 2
}
